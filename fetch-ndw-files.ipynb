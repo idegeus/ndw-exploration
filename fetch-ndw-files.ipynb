{
 "cells": [
  {
   "cell_type": "code",
   "execution_count": 2,
   "id": "00e08266-4e0a-4dff-87b2-fc7c2cf108d3",
   "metadata": {
    "ExecuteTime": {
     "end_time": "2021-05-17T10:10:34.143202Z",
     "start_time": "2021-05-17T10:10:33.955403Z"
    }
   },
   "outputs": [],
   "source": [
    "import requests\n",
    "import os\n",
    "from datetime import datetime"
   ]
  },
  {
   "cell_type": "code",
   "execution_count": 18,
   "id": "47d103cb-5da2-4229-bab2-b005104969e6",
   "metadata": {},
   "outputs": [],
   "source": [
    "files_to_fetch = [\n",
    "    (\"http://opendata.ndw.nu/traveltime.xml.gz\", 'traveltime', '.xml.gz'),\n",
    "    (\"http://opendata.ndw.nu/trafficspeed.xml.gz\", 'trafficspeed', '.xml.gz'),\n",
    "    (\"http://opendata.ndw.nu/measurement.xml.gz\", 'measurement', '.xml.gz')\n",
    "]\n",
    "\n",
    "moment = datetime.now().strftime(\"%Y%m%d%H%M\")\n",
    "for file in files_to_fetch:\n",
    "    \n",
    "    path = os.getcwd()\n",
    "    if 'iv-infra' not in path:\n",
    "        path = os.path.join(path, 'iv-infra')\n",
    "    \n",
    "    # Create directory out\n",
    "    os.makedirs(os.path.join(path, 'files', file[1]), exist_ok=True)\n",
    "    \n",
    "    # Fetch and write file\n",
    "    with open(os.path.join(path, 'files', file[1], file[1] + moment + file[2]), 'wb') as file:\n",
    "        file.write(requests.get(\"http://opendata.ndw.nu/traveltime.xml.gz\").content)"
   ]
  },
  {
   "cell_type": "code",
   "execution_count": null,
   "id": "a5c514b3",
   "metadata": {},
   "outputs": [],
   "source": []
  }
 ],
 "metadata": {
  "kernelspec": {
   "display_name": "Python 3",
   "language": "python",
   "name": "python3"
  },
  "language_info": {
   "codemirror_mode": {
    "name": "ipython",
    "version": 3
   },
   "file_extension": ".py",
   "mimetype": "text/x-python",
   "name": "python",
   "nbconvert_exporter": "python",
   "pygments_lexer": "ipython3",
   "version": "3.8.10"
  }
 },
 "nbformat": 4,
 "nbformat_minor": 5
}
